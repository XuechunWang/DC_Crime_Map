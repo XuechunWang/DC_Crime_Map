{
 "cells": [
  {
   "cell_type": "markdown",
   "metadata": {},
   "source": [
    "## Crime Data Processing:"
   ]
  },
  {
   "cell_type": "code",
   "execution_count": null,
   "metadata": {},
   "outputs": [],
   "source": [
    "# Load crime data\n",
    "import pandas as pd\n",
    "import numpy as np \n",
    "dc_crime_2018 = pd.read_csv('Crime_Incidents_in_2018.csv')\n",
    "dc_crime_2019 = pd.read_csv('Crime_Incidents_in_2019.csv')"
   ]
  },
  {
   "cell_type": "code",
   "execution_count": 4,
   "metadata": {},
   "outputs": [
    {
     "name": "stdout",
     "output_type": "stream",
     "text": [
      "(33910, 25)\n",
      "(33756, 25)\n"
     ]
    }
   ],
   "source": [
    "print(dc_crime_2019.shape)\n",
    "print(dc_crime_2018.shape)"
   ]
  },
  {
   "cell_type": "code",
   "execution_count": 5,
   "metadata": {},
   "outputs": [
    {
     "data": {
      "text/plain": [
       "Index(['X', 'Y', 'CCN', 'REPORT_DAT', 'SHIFT', 'METHOD', 'OFFENSE', 'BLOCK',\n",
       "       'XBLOCK', 'YBLOCK', 'WARD', 'ANC', 'DISTRICT', 'PSA',\n",
       "       'NEIGHBORHOOD_CLUSTER', 'BLOCK_GROUP', 'CENSUS_TRACT',\n",
       "       'VOTING_PRECINCT', 'LATITUDE', 'LONGITUDE', 'BID', 'START_DATE',\n",
       "       'END_DATE', 'OBJECTID', 'OCTO_RECORD_ID'],\n",
       "      dtype='object')"
      ]
     },
     "execution_count": 5,
     "metadata": {},
     "output_type": "execute_result"
    }
   ],
   "source": [
    "# Show columns of the data\n",
    "dc_crime_2019.columns"
   ]
  },
  {
   "cell_type": "code",
   "execution_count": 6,
   "metadata": {},
   "outputs": [
    {
     "data": {
      "text/plain": [
       "0        Cluster 26\n",
       "1        Cluster 39\n",
       "2        Cluster 24\n",
       "3         Cluster 8\n",
       "4         Cluster 8\n",
       "            ...    \n",
       "33905    Cluster 25\n",
       "33906    Cluster 33\n",
       "33907    Cluster 33\n",
       "33908    Cluster 25\n",
       "33909    Cluster 25\n",
       "Name: NEIGHBORHOOD_CLUSTER, Length: 33910, dtype: object"
      ]
     },
     "execution_count": 6,
     "metadata": {},
     "output_type": "execute_result"
    }
   ],
   "source": [
    "dc_crime_2019.NEIGHBORHOOD_CLUSTER"
   ]
  },
  {
   "cell_type": "code",
   "execution_count": 8,
   "metadata": {},
   "outputs": [],
   "source": [
    "# Fliter the neighborhood cluster to Congress Heights, which is Cluster 39\n",
    "ch_crime_2019 = dc_crime_2019[dc_crime_2019.NEIGHBORHOOD_CLUSTER == \"Cluster 39\"]\n",
    "ch_crime_2018 = dc_crime_2018[dc_crime_2018.NEIGHBORHOOD_CLUSTER == \"Cluster 39\"]"
   ]
  },
  {
   "cell_type": "code",
   "execution_count": 32,
   "metadata": {},
   "outputs": [
    {
     "name": "stdout",
     "output_type": "stream",
     "text": [
      "The size of 2019 crime data:  (975, 25)\n",
      "The size of 2018 crime data:  (1094, 25)\n"
     ]
    }
   ],
   "source": [
    "# Show the shape of the data set\n",
    "print(\"The size of 2019 crime data: \",ch_crime_2019.shape)\n",
    "print(\"The size of 2018 crime data: \",ch_crime_2018.shape)"
   ]
  },
  {
   "cell_type": "markdown",
   "metadata": {},
   "source": [
    "### Count the number of difference types of crime:"
   ]
  },
  {
   "cell_type": "code",
   "execution_count": 11,
   "metadata": {},
   "outputs": [
    {
     "data": {
      "text/plain": [
       "THEFT/OTHER                   385\n",
       "THEFT F/AUTO                  173\n",
       "ASSAULT W/DANGEROUS WEAPON    160\n",
       "ROBBERY                       126\n",
       "MOTOR VEHICLE THEFT           118\n",
       "BURGLARY                       76\n",
       "HOMICIDE                       32\n",
       "SEX ABUSE                      23\n",
       "ARSON                           1\n",
       "Name: OFFENSE, dtype: int64"
      ]
     },
     "execution_count": 11,
     "metadata": {},
     "output_type": "execute_result"
    }
   ],
   "source": [
    "pd.value_counts(ch_crime_2018['OFFENSE'])[:10]"
   ]
  },
  {
   "cell_type": "code",
   "execution_count": 33,
   "metadata": {},
   "outputs": [
    {
     "data": {
      "text/plain": [
       "THEFT/OTHER                   314\n",
       "THEFT F/AUTO                  199\n",
       "ASSAULT W/DANGEROUS WEAPON    132\n",
       "ROBBERY                       126\n",
       "MOTOR VEHICLE THEFT            94\n",
       "BURGLARY                       68\n",
       "HOMICIDE                       25\n",
       "SEX ABUSE                      17\n",
       "Name: OFFENSE, dtype: int64"
      ]
     },
     "execution_count": 33,
     "metadata": {},
     "output_type": "execute_result"
    }
   ],
   "source": [
    "pd.value_counts(ch_crime_2019['OFFENSE'])[:10]"
   ]
  },
  {
   "cell_type": "markdown",
   "metadata": {},
   "source": [
    "|Type of Crime|Present Value|2018 Count|2018 Total Value|2019 Count|2018 Total Value | \n",
    "| ----------- | ------------| ---------- | ---------- | ---------- | ---------- |\n",
    "|THEFT/OTHER  |    3532    |  385       | 1,359,820   |  314       | 1,109,048 |\n",
    "|THEFT F/AUTO |    3532    |  173       | 611,036     |  199       | 702,868|\n",
    "|ASSAULT W/DANGEROUS WEAPON|107020|  160| 17,123,200  |  132       | 14,126,640|\n",
    "|ROBBERY|        42310    |      126    | 5,331,060   |  126       | 5,331,060|\n",
    "|MOTOR VEHICLE THEFT| 10772|         118| 1,271,096   |  94        | 1,012,568|\n",
    "|BURGLARY     |    6462|         76     | 491,112     |  68        | 439,416|\n",
    "|HOMICIDE| 8982907 |                32  | 287,453,024 |  25        | 224,572,675|\n",
    "|SEX ABUSE|  240776  |     23           | 240,776     |  17        | 4,093,192|\n",
    "|ARSON|    21103     |                 1| 21,103      |   0        | 0|\n",
    "|Total|              |      1094        | 313,902,227 | 975        |251,387,467|"
   ]
  },
  {
   "cell_type": "code",
   "execution_count": 31,
   "metadata": {},
   "outputs": [
    {
     "data": {
      "text/plain": [
       "251387467"
      ]
     },
     "execution_count": 31,
     "metadata": {},
     "output_type": "execute_result"
    }
   ],
   "source": [
    "1109048+ 702868+14126640+5331060+1012568+439416+224572675+4093192+0"
   ]
  },
  {
   "cell_type": "code",
   "execution_count": 22,
   "metadata": {},
   "outputs": [
    {
     "data": {
      "text/plain": [
       "313902227"
      ]
     },
     "execution_count": 22,
     "metadata": {},
     "output_type": "execute_result"
    }
   ],
   "source": [
    "1359820+611036+17123200+5331060+1271096+491112+287453024+240776+21103"
   ]
  },
  {
   "cell_type": "markdown",
   "metadata": {},
   "source": [
    "## Crime Data Visualization for Selected year:"
   ]
  },
  {
   "cell_type": "code",
   "execution_count": 35,
   "metadata": {},
   "outputs": [],
   "source": [
    "# Select the year of 2019\n",
    "mydata = ch_crime_2019"
   ]
  },
  {
   "cell_type": "code",
   "execution_count": 36,
   "metadata": {},
   "outputs": [],
   "source": [
    "import folium\n",
    "import matplotlib.pyplot as plt\n",
    "import seaborn as sns"
   ]
  },
  {
   "cell_type": "code",
   "execution_count": 37,
   "metadata": {},
   "outputs": [],
   "source": [
    "# Calculate the average lat and long used as center of the map:\n",
    "ave_lat = sum(mydata.LATITUDE)/len(mydata.LATITUDE)\n",
    "ave_long = sum(mydata.LONGITUDE)/len(mydata.LONGITUDE)"
   ]
  },
  {
   "cell_type": "code",
   "execution_count": 38,
   "metadata": {},
   "outputs": [
    {
     "name": "stdout",
     "output_type": "stream",
     "text": [
      "38.83338941262957\n",
      "-76.99973647840663\n"
     ]
    }
   ],
   "source": [
    "print(ave_lat)\n",
    "print(ave_long)"
   ]
  },
  {
   "cell_type": "markdown",
   "metadata": {},
   "source": [
    "Location Description:"
   ]
  },
  {
   "cell_type": "code",
   "execution_count": 39,
   "metadata": {},
   "outputs": [
    {
     "data": {
      "text/plain": [
       "2 - 199 BLOCK OF GALVESTON STREET SW                    24\n",
       "4600 - 4799 BLOCK OF SOUTH CAPITOL STREET               23\n",
       "3900 - 3999 BLOCK OF MARTIN LUTHER KING JR AVENUE SW    22\n",
       "4180 - 4530 BLOCK OF LIVINGSTON ROAD SE                 21\n",
       "600 - 898 BLOCK OF BRANDYWINE STREET SE                 21\n",
       "3301 - 3699 BLOCK OF 6TH STREET SE                      17\n",
       "4200 - 4232 BLOCK OF 4TH STREET SE                      15\n",
       "4610 - 4659 BLOCK OF SOUTH CAPITOL STREET               14\n",
       "812 - 899 BLOCK OF BARNABY STREET SE                    14\n",
       "4200 - 4283 BLOCK OF 6TH STREET SE                      14\n",
       "Name: BLOCK, dtype: int64"
      ]
     },
     "execution_count": 39,
     "metadata": {},
     "output_type": "execute_result"
    }
   ],
   "source": [
    "pd.value_counts(mydata['BLOCK'])[:10]"
   ]
  },
  {
   "cell_type": "markdown",
   "metadata": {},
   "source": [
    "Crime Type Description:"
   ]
  },
  {
   "cell_type": "code",
   "execution_count": 40,
   "metadata": {},
   "outputs": [
    {
     "data": {
      "text/plain": [
       "THEFT/OTHER                   314\n",
       "THEFT F/AUTO                  199\n",
       "ASSAULT W/DANGEROUS WEAPON    132\n",
       "ROBBERY                       126\n",
       "MOTOR VEHICLE THEFT            94\n",
       "BURGLARY                       68\n",
       "HOMICIDE                       25\n",
       "SEX ABUSE                      17\n",
       "Name: OFFENSE, dtype: int64"
      ]
     },
     "execution_count": 40,
     "metadata": {},
     "output_type": "execute_result"
    }
   ],
   "source": [
    "pd.value_counts(mydata['OFFENSE'])[:10]"
   ]
  },
  {
   "cell_type": "markdown",
   "metadata": {},
   "source": [
    "### Set the color code of different types of crime:"
   ]
  },
  {
   "cell_type": "markdown",
   "metadata": {},
   "source": [
    "**orange:**\n",
    "THEFT/OTHER\n",
    "\n",
    "**purple:**\n",
    "THEFT F/AUTO\n",
    "\n",
    "**green:**\n",
    "MOTOR VEHICLE THEFT\n",
    "\n",
    "**darkred:**\n",
    "ASSAULT W/DANGEROUS WEAPON\n",
    "\n",
    "**red:**\n",
    "HOMICIDE\n",
    "\n",
    "**gray:**\n",
    "BURGLARY\n",
    "\n",
    "**darkpurple:**\n",
    "ROBBERY\n",
    "\n",
    "**darkblue:**\n",
    "SEX ABUSE\n",
    "\n",
    "**darkblue:**\n",
    "SEX ABUSE\n",
    "\n",
    "**black:**\n",
    "others"
   ]
  },
  {
   "cell_type": "code",
   "execution_count": 41,
   "metadata": {},
   "outputs": [],
   "source": [
    "color_list = []\n",
    "for i in range(len(mydata['LATITUDE'])):   \n",
    "    if mydata.iloc[i][6] == \"THEFT/OTHER\":\n",
    "        color = \"orange\"\n",
    "    elif mydata.iloc[i][6] == \"THEFT F/AUTO\":\n",
    "        color = \"purple\"\n",
    "    elif mydata.iloc[i][6] == \"MOTOR VEHICLE THEFT\":\n",
    "        color = \"green\"\n",
    "    elif mydata.iloc[i][6] == \"ASSAULT W/DANGEROUS WEAPON\":\n",
    "        color = \"darkred\"\n",
    "    elif mydata.iloc[i][6] == \"HOMICIDE\":\n",
    "        color = \"red\"\n",
    "    elif mydata.iloc[i][6] == \"BURGLARY\":\n",
    "        color = \"gray\"\n",
    "    elif mydata.iloc[i][6] == \"ROBBERY\":\n",
    "        color = \"darkpurple\"\n",
    "    elif mydata.iloc[i][6] == \"SEX ABUSE\":\n",
    "        color = \"darkblue\"\n",
    "    else:\n",
    "        color = \"black\"\n",
    "    color_list.append(color)"
   ]
  },
  {
   "cell_type": "code",
   "execution_count": 42,
   "metadata": {},
   "outputs": [
    {
     "name": "stderr",
     "output_type": "stream",
     "text": [
      "/Users/xuechunwang/anaconda3/lib/python3.6/site-packages/ipykernel_launcher.py:1: SettingWithCopyWarning: \n",
      "A value is trying to be set on a copy of a slice from a DataFrame.\n",
      "Try using .loc[row_indexer,col_indexer] = value instead\n",
      "\n",
      "See the caveats in the documentation: http://pandas.pydata.org/pandas-docs/stable/user_guide/indexing.html#returning-a-view-versus-a-copy\n",
      "  \"\"\"Entry point for launching an IPython kernel.\n"
     ]
    }
   ],
   "source": [
    "mydata['color'] = pd.Series(color_list).values"
   ]
  },
  {
   "cell_type": "code",
   "execution_count": 43,
   "metadata": {},
   "outputs": [
    {
     "data": {
      "text/plain": [
       "'orange'"
      ]
     },
     "execution_count": 43,
     "metadata": {},
     "output_type": "execute_result"
    }
   ],
   "source": [
    "mydata.iloc[1][25]"
   ]
  },
  {
   "cell_type": "code",
   "execution_count": 44,
   "metadata": {},
   "outputs": [],
   "source": [
    "import folium\n",
    "import folium.plugins\n",
    "from folium.plugins import MarkerCluster\n",
    "\n",
    "ch_map = folium.Map(location=[ave_lat,ave_long],\n",
    "                        zoom_start=14,\n",
    "                        tiles=\"OpenStreetMap\")\n",
    "marker_cluster = MarkerCluster().add_to(ch_map)"
   ]
  },
  {
   "cell_type": "code",
   "execution_count": 45,
   "metadata": {},
   "outputs": [],
   "source": [
    "for i in range(len(mydata['LATITUDE'])):\n",
    "    lat = mydata.iloc[i][18]\n",
    "    long = mydata.iloc[i][19]\n",
    "    color = mydata.iloc[i][25]\n",
    "    popup_text = \"\"\" OFFENSE : {}<br>\n",
    "                METHOD : {}<br>\n",
    "                BLOCK_GROUP : {}<br>\n",
    "                SHIFT : {}<br>\n",
    "                START DATE : {}<br>\"\"\" \n",
    "        \n",
    "    popup_text = popup_text.format(mydata.iloc[i][6],\n",
    "                                mydata.iloc[i][5],\n",
    "                                mydata.iloc[i][15],\n",
    "                                mydata.iloc[i][4],  \n",
    "                                mydata.iloc[i][21]\n",
    "                               )\n",
    "    folium.Marker(location = [lat, long], popup= popup_text, icon=folium.Icon(color=color)).add_to(marker_cluster)"
   ]
  },
  {
   "cell_type": "markdown",
   "metadata": {},
   "source": [
    "**orange:**\n",
    "THEFT/OTHER\n",
    "\n",
    "\n",
    "**purple:**\n",
    "THEFT F/AUTO\n",
    "\n",
    "**green:**\n",
    "MOTOR VEHICLE THEFT\n",
    "\n",
    "**darkred:**\n",
    "ASSAULT W/DANGEROUS WEAPON\n",
    "\n",
    "**red:**\n",
    "HOMICIDE\n",
    "\n",
    "**gray:**\n",
    "BURGLARY\n",
    "\n",
    "**darkpurple:**\n",
    "ROBBERY\n",
    "\n",
    "**darkblue:**\n",
    "SEX ABUSE\n",
    "\n",
    "**black:**\n",
    "others"
   ]
  },
  {
   "cell_type": "code",
   "execution_count": null,
   "metadata": {},
   "outputs": [],
   "source": [
    "## Add the legend to the map\n",
    "from branca.element import Template, MacroElement\n",
    "\n",
    "template = \"\"\"\n",
    "{% macro html(this, kwargs) %}\n",
    "\n",
    "<!doctype html>\n",
    "<html lang=\"en\">\n",
    "<head>\n",
    "  <meta charset=\"utf-8\">\n",
    "  <meta name=\"viewport\" content=\"width=device-width, initial-scale=1\">\n",
    "  <title>jQuery UI Draggable - Default functionality</title>\n",
    "  <link rel=\"stylesheet\" href=\"//code.jquery.com/ui/1.12.1/themes/base/jquery-ui.css\">\n",
    "\n",
    "  <script src=\"https://code.jquery.com/jquery-1.12.4.js\"></script>\n",
    "  <script src=\"https://code.jquery.com/ui/1.12.1/jquery-ui.js\"></script>\n",
    "  \n",
    "  <script>\n",
    "  $( function() {\n",
    "    $( \"#maplegend\" ).draggable({\n",
    "                    start: function (event, ui) {\n",
    "                        $(this).css({\n",
    "                            right: \"auto\",\n",
    "                            top: \"auto\",\n",
    "                            bottom: \"auto\"\n",
    "                        });\n",
    "                    }\n",
    "                });\n",
    "});\n",
    "\n",
    "  </script>\n",
    "</head>\n",
    "<body>\n",
    "\n",
    " \n",
    "<div id='maplegend' class='maplegend' \n",
    "    style='position: absolute; z-index:9999; border:2px solid grey; background-color:rgba(255, 255, 255, 0.8);\n",
    "     border-radius:6px; padding: 10px; font-size:14px; right: 20px; bottom: 20px;'>\n",
    "     \n",
    "<div class='legend-title'>Legend (draggable!)</div>\n",
    "<div class='legend-scale'>\n",
    "  <ul class='legend-labels'>\n",
    "    <li><span style='background:orange;opacity:0.7;'></span>THEFT/OTHER - 314</li>\n",
    "    <li><span style='background:purple;opacity:0.7;'></span>THEFT F/AUTO - 199</li>\n",
    "    <li><span style='background:green;opacity:0.7;'></span>MOTOR VEHICLE THEFT - 118</li>\n",
    "    <li><span style='background:darkred;opacity:0.7;'></span>ASSAULT W/DANGEROUS WEAPON - 132</li>\n",
    "    <li><span style='background:red;opacity:0.7;'></span>HOMICIDE - 32</li>\n",
    "    <li><span style='background:gray;opacity:0.7;'></span>BURGLARY - 76</li>\n",
    "    <li><span style='background:#3f1b45;opacity:0.7;'></span>ROBBERY - 126</li>\n",
    "    <li><span style='background:darkblue;opacity:0.7;'></span>SEX ABUSE - 23</li>\n",
    "    <li><span style='background:green;black:0.7;'></span>OTHERS - 1</li>\n",
    "\n",
    "  </ul>\n",
    "</div>\n",
    "</div>\n",
    " \n",
    "</body>\n",
    "</html>\n",
    "\n",
    "<style type='text/css'>\n",
    "  .maplegend .legend-title {\n",
    "    text-align: left;\n",
    "    margin-bottom: 5px;\n",
    "    font-weight: bold;\n",
    "    font-size: 90%;\n",
    "    }\n",
    "  .maplegend .legend-scale ul {\n",
    "    margin: 0;\n",
    "    margin-bottom: 5px;\n",
    "    padding: 0;\n",
    "    float: left;\n",
    "    list-style: none;\n",
    "    }\n",
    "  .maplegend .legend-scale ul li {\n",
    "    font-size: 80%;\n",
    "    list-style: none;\n",
    "    margin-left: 0;\n",
    "    line-height: 18px;\n",
    "    margin-bottom: 2px;\n",
    "    }\n",
    "  .maplegend ul.legend-labels li span {\n",
    "    display: block;\n",
    "    float: left;\n",
    "    height: 16px;\n",
    "    width: 30px;\n",
    "    margin-right: 5px;\n",
    "    margin-left: 0;\n",
    "    border: 1px solid #999;\n",
    "    }\n",
    "  .maplegend .legend-source {\n",
    "    font-size: 80%;\n",
    "    color: #777;\n",
    "    clear: both;\n",
    "    }\n",
    "  .maplegend a {\n",
    "    color: #777;\n",
    "    }\n",
    "</style>\n",
    "{% endmacro %}\"\"\"\n",
    "\n",
    "macro = MacroElement()\n",
    "macro._template = Template(template)\n",
    "ch_map.get_root().add_child(macro)"
   ]
  },
  {
   "cell_type": "code",
   "execution_count": null,
   "metadata": {},
   "outputs": [],
   "source": [
    "ch_map.save('ch_crime_map_2019.html')"
   ]
  },
  {
   "cell_type": "markdown",
   "metadata": {},
   "source": [
    "## Property Data Processing:"
   ]
  },
  {
   "cell_type": "code",
   "execution_count": 2,
   "metadata": {},
   "outputs": [],
   "source": [
    "import pandas as pd\n",
    "mydf = pd.read_excel('congress_hights.xlsx')"
   ]
  },
  {
   "cell_type": "code",
   "execution_count": 3,
   "metadata": {},
   "outputs": [
    {
     "data": {
      "text/html": [
       "<div>\n",
       "<style scoped>\n",
       "    .dataframe tbody tr th:only-of-type {\n",
       "        vertical-align: middle;\n",
       "    }\n",
       "\n",
       "    .dataframe tbody tr th {\n",
       "        vertical-align: top;\n",
       "    }\n",
       "\n",
       "    .dataframe thead th {\n",
       "        text-align: right;\n",
       "    }\n",
       "</style>\n",
       "<table border=\"1\" class=\"dataframe\">\n",
       "  <thead>\n",
       "    <tr style=\"text-align: right;\">\n",
       "      <th></th>\n",
       "      <th>Square</th>\n",
       "      <th>Premise_Address</th>\n",
       "      <th>Owner_Name</th>\n",
       "      <th>Neighborhood</th>\n",
       "      <th>Sub-Neighborhood</th>\n",
       "      <th>Use_Code</th>\n",
       "      <th>Sale_Price</th>\n",
       "      <th>Recordation_Date</th>\n",
       "      <th>2020_Total</th>\n",
       "    </tr>\n",
       "  </thead>\n",
       "  <tbody>\n",
       "    <tr>\n",
       "      <td>0</td>\n",
       "      <td>NaN</td>\n",
       "      <td>NaN</td>\n",
       "      <td>NaN</td>\n",
       "      <td>NaN</td>\n",
       "      <td>NaN</td>\n",
       "      <td>NaN</td>\n",
       "      <td>NaN</td>\n",
       "      <td>NaN</td>\n",
       "      <td>NaN</td>\n",
       "    </tr>\n",
       "    <tr>\n",
       "      <td>1</td>\n",
       "      <td>5920 0070</td>\n",
       "      <td>WAHLER PL SE</td>\n",
       "      <td>DISTRICT OF COLUMBIA HOUSING AUTHORITY</td>\n",
       "      <td>CONGRESS HEIGHTS</td>\n",
       "      <td>C</td>\n",
       "      <td>93.0</td>\n",
       "      <td>0.0</td>\n",
       "      <td>NaN</td>\n",
       "      <td>910.0</td>\n",
       "    </tr>\n",
       "    <tr>\n",
       "      <td>2</td>\n",
       "      <td>5920 0071</td>\n",
       "      <td>1137 WAHLER PL SE</td>\n",
       "      <td>JAEIZA Z HARMAL</td>\n",
       "      <td>CONGRESS HEIGHTS</td>\n",
       "      <td>C</td>\n",
       "      <td>12.0</td>\n",
       "      <td>325000.0</td>\n",
       "      <td>2006-02-13 00:00:00</td>\n",
       "      <td>429260.0</td>\n",
       "    </tr>\n",
       "    <tr>\n",
       "      <td>3</td>\n",
       "      <td>5920 0072</td>\n",
       "      <td>1135 WAHLER PL SE</td>\n",
       "      <td>DISTRICT OF COLUMBIA HOUSING AUTHORITY</td>\n",
       "      <td>CONGRESS HEIGHTS</td>\n",
       "      <td>C</td>\n",
       "      <td>11.0</td>\n",
       "      <td>0.0</td>\n",
       "      <td>NaN</td>\n",
       "      <td>405110.0</td>\n",
       "    </tr>\n",
       "    <tr>\n",
       "      <td>4</td>\n",
       "      <td>5920 0073</td>\n",
       "      <td>1133 WAHLER PL SE</td>\n",
       "      <td>DISTRICT OF COLUMBIA HOUSING AUTHORITY</td>\n",
       "      <td>CONGRESS HEIGHTS</td>\n",
       "      <td>C</td>\n",
       "      <td>11.0</td>\n",
       "      <td>0.0</td>\n",
       "      <td>NaN</td>\n",
       "      <td>354400.0</td>\n",
       "    </tr>\n",
       "  </tbody>\n",
       "</table>\n",
       "</div>"
      ],
      "text/plain": [
       "      Square    Premise_Address                              Owner_Name  \\\n",
       "0        NaN                NaN                                     NaN   \n",
       "1  5920 0070       WAHLER PL SE  DISTRICT OF COLUMBIA HOUSING AUTHORITY   \n",
       "2  5920 0071  1137 WAHLER PL SE                         JAEIZA Z HARMAL   \n",
       "3  5920 0072  1135 WAHLER PL SE  DISTRICT OF COLUMBIA HOUSING AUTHORITY   \n",
       "4  5920 0073  1133 WAHLER PL SE  DISTRICT OF COLUMBIA HOUSING AUTHORITY   \n",
       "\n",
       "       Neighborhood Sub-Neighborhood  Use_Code  Sale_Price  \\\n",
       "0               NaN              NaN       NaN         NaN   \n",
       "1  CONGRESS HEIGHTS                C      93.0         0.0   \n",
       "2  CONGRESS HEIGHTS                C      12.0    325000.0   \n",
       "3  CONGRESS HEIGHTS                C      11.0         0.0   \n",
       "4  CONGRESS HEIGHTS                C      11.0         0.0   \n",
       "\n",
       "      Recordation_Date  2020_Total  \n",
       "0                  NaN         NaN  \n",
       "1                  NaN       910.0  \n",
       "2  2006-02-13 00:00:00    429260.0  \n",
       "3                  NaN    405110.0  \n",
       "4                  NaN    354400.0  "
      ]
     },
     "execution_count": 3,
     "metadata": {},
     "output_type": "execute_result"
    }
   ],
   "source": [
    "mydf.head()"
   ]
  },
  {
   "cell_type": "code",
   "execution_count": 5,
   "metadata": {},
   "outputs": [],
   "source": [
    "mydf_sub_C = mydf[mydf['Sub-Neighborhood'] == \"C\"]"
   ]
  },
  {
   "cell_type": "code",
   "execution_count": 7,
   "metadata": {},
   "outputs": [
    {
     "name": "stdout",
     "output_type": "stream",
     "text": [
      "The shape of Congress Heights property data:  (6119, 9)\n",
      "The shape of Congress Heights Sub- Neighborhood C property data:  (2106, 9)\n"
     ]
    }
   ],
   "source": [
    "print('The shape of Congress Heights property data: ', mydf.shape)\n",
    "print('The shape of Congress Heights Sub- Neighborhood C property data: ', mydf_sub_C.shape)"
   ]
  },
  {
   "cell_type": "code",
   "execution_count": 9,
   "metadata": {},
   "outputs": [
    {
     "data": {
      "text/plain": [
       "11.0     597\n",
       "13.0     584\n",
       "16.0     377\n",
       "21.0     154\n",
       "91.0     131\n",
       "18.0      99\n",
       "23.0      53\n",
       "93.0      19\n",
       "12.0      19\n",
       "24.0      12\n",
       "25.0       9\n",
       "191.0      8\n",
       "83.0       6\n",
       "96.0       5\n",
       "22.0       5\n",
       "41.0       5\n",
       "81.0       4\n",
       "49.0       3\n",
       "29.0       3\n",
       "84.0       3\n",
       "19.0       2\n",
       "194.0      1\n",
       "193.0      1\n",
       "365.0      1\n",
       "44.0       1\n",
       "192.0      1\n",
       "94.0       1\n",
       "89.0       1\n",
       "28.0       1\n",
       "Name: Use_Code, dtype: int64"
      ]
     },
     "execution_count": 9,
     "metadata": {},
     "output_type": "execute_result"
    }
   ],
   "source": [
    "pd.value_counts(mydf_sub_C['Use_Code'])"
   ]
  },
  {
   "cell_type": "markdown",
   "metadata": {},
   "source": [
    "|    Use Code| Count |  Description |\n",
    "| ---------- | ---------- | ---------- |\n",
    "|        11.0     | 597  |  Residential-Row-Single-Family| \n",
    "|        13.0     | 584  |  Residential-Semi-Detached-Sing|\n",
    "|        16.0     | 377  |  Residential-Condo-Horizontal|\n",
    "|        21.0     | 154  |  Residential-Apartment-Walk-Up|\n",
    "|        91.0     | 131  |  Vacant-True|\n",
    "|        18.0     | 99   |  Residential-Condo-Garage|\n",
    "|        23.0     | 53   |  Residential Flats-Less than 5|\n",
    "|        93.0     | 19   |  Vacant-Zoning Limits|\n",
    "|        12.0     | 19   |  Residential-Detached-Single-Fa|\n",
    "|        24.0     | 12   |  Residential-Conversions-Less t|\n",
    "|        25.0     |  9   |  Residential-Conversion-5 Units|\n",
    "|        191.0    |  8   |  Vacant-True|\n",
    "|        83.0     |  6   |  Educational|\n",
    "|        96.0     |  5   |  Vacant-Unimproved Parking|\n",
    "|        22.0     |  5   |  Residential-Apartment-Elevator|\n",
    "|        41.0     |  5   |  Store-Small 1-Story|"
   ]
  },
  {
   "cell_type": "markdown",
   "metadata": {},
   "source": [
    "|    Use Code| Count |  Description |\n",
    "| ---------- | ---------- | ---------- |\n",
    "|        81.0     |  4   |  Religious|\n",
    "|        49.0     |  3   |  Commercial-Retail-Misc|\n",
    "|        29.0     |  3   |  Residential-Multifamily, Misc|\n",
    "|        84.0     |  3   |  Public Service|\n",
    "|        19.0     |  2   |  Residential-Single-Family-Misc|\n",
    "|        194.0    |  1   |  Vacant-False-Abutting|\n",
    "|        193.0    |  1   |  Vacant-Zoning limits|\n",
    "|        365.0    |  1   |  Vehicle Service Station-Market|\n",
    "|        44.0     |  1   |  Store-Shopping Center/Mall|\n",
    "|        192.0    |  1   |  Vacant-With Permit|\n",
    "|        94.0     |  1   |  Vacant-False-Abutting|\n",
    "|        89.0     |  1   |  Special Purpose-Misc|\n",
    "|        28.0     |  1   |  Not Found|"
   ]
  },
  {
   "cell_type": "code",
   "execution_count": 10,
   "metadata": {},
   "outputs": [
    {
     "data": {
      "text/plain": [
       "Square               object\n",
       "Premise_Address      object\n",
       "Owner_Name           object\n",
       "Neighborhood         object\n",
       "Sub-Neighborhood     object\n",
       "Use_Code            float64\n",
       "Sale_Price          float64\n",
       "Recordation_Date     object\n",
       "2020_Total          float64\n",
       "dtype: object"
      ]
     },
     "execution_count": 10,
     "metadata": {},
     "output_type": "execute_result"
    }
   ],
   "source": [
    "mydf_sub_C.dtypes"
   ]
  },
  {
   "cell_type": "code",
   "execution_count": 13,
   "metadata": {},
   "outputs": [],
   "source": [
    "# Delet all the vacant properties:\n",
    "vacant_set = [28, 91, 93, 191, 96, 194, 193, 192, 94] \n",
    "mydf_sub_C_new = mydf_sub_C[~mydf_sub_C['Use_Code'].isin(vacant_set)]"
   ]
  },
  {
   "cell_type": "code",
   "execution_count": 14,
   "metadata": {},
   "outputs": [
    {
     "data": {
      "text/plain": [
       "(1938, 9)"
      ]
     },
     "execution_count": 14,
     "metadata": {},
     "output_type": "execute_result"
    }
   ],
   "source": [
    "mydf_sub_C_new.shape"
   ]
  },
  {
   "cell_type": "code",
   "execution_count": 33,
   "metadata": {},
   "outputs": [
    {
     "name": "stderr",
     "output_type": "stream",
     "text": [
      "/Users/xuechunwang/anaconda3/lib/python3.6/site-packages/ipykernel_launcher.py:1: SettingWithCopyWarning: \n",
      "A value is trying to be set on a copy of a slice from a DataFrame.\n",
      "Try using .loc[row_indexer,col_indexer] = value instead\n",
      "\n",
      "See the caveats in the documentation: http://pandas.pydata.org/pandas-docs/stable/user_guide/indexing.html#returning-a-view-versus-a-copy\n",
      "  \"\"\"Entry point for launching an IPython kernel.\n"
     ]
    }
   ],
   "source": [
    "mydf_sub_C_new['new_adress'] = mydf_sub_C_new['Premise_Address'] + \", DC, United States\""
   ]
  },
  {
   "cell_type": "code",
   "execution_count": 34,
   "metadata": {},
   "outputs": [],
   "source": [
    "df1 = mydf_sub_C_new.iloc[:500, :]\n",
    "df2 = mydf_sub_C_new.iloc[500:1000, :]\n",
    "df3 = mydf_sub_C_new.iloc[1000:1500, :]\n",
    "df4 = mydf_sub_C_new.iloc[1500:1938, :]"
   ]
  },
  {
   "cell_type": "code",
   "execution_count": 25,
   "metadata": {},
   "outputs": [],
   "source": [
    "df = pd.concat([df1, df2, df3, df4])"
   ]
  },
  {
   "cell_type": "code",
   "execution_count": 30,
   "metadata": {},
   "outputs": [],
   "source": [
    "from geopy.extra.rate_limiter import RateLimiter\n",
    "import certifi\n",
    "import ssl\n",
    "import geopy.geocoders\n",
    "from geopy.geocoders import Nominatim\n",
    "ctx = ssl.create_default_context(cafile=certifi.where())\n",
    "geopy.geocoders.options.default_ssl_context = ctx\n",
    "import geopandas\n",
    "import geopy\n",
    "from geopy.geocoders import Nominatim\n",
    "\n",
    "locator = Nominatim(user_agent='dc_find_lat_long')\n",
    "\n",
    "def convert_lat_long(mydf):\n",
    "    # 1 - conveneint function to delay between geocoding calls\n",
    "    geocode = RateLimiter(locator.geocode, min_delay_seconds=1)\n",
    "    # 2- - create location column\n",
    "    mydf['location'] = mydf['new_adress'].apply(geocode)\n",
    "    # 3 - create longitude, laatitude and altitude from location column (returns tuple)\n",
    "    mydf['point'] = mydf['location'].apply(lambda loc: tuple(loc.point) if loc else None)\n",
    "    # 4 - split point column into latitude, longitude and altitude columns\n",
    "    mydf[['latitude', 'longitude', 'altitude']] = pd.DataFrame(mydf['point'].tolist(), index=mydf.index)\n",
    "    return mydf"
   ]
  },
  {
   "cell_type": "code",
   "execution_count": 99,
   "metadata": {},
   "outputs": [
    {
     "data": {
      "text/plain": [
       "[(38.830446915664616, -76.99090786028921, 0.0),\n",
       " None,\n",
       " None,\n",
       " None,\n",
       " None,\n",
       " None,\n",
       " (38.83044016179179, -76.99091825454738, 0.0),\n",
       " (38.830443538728204, -76.9909130574183, 0.0),\n",
       " None,\n",
       " (38.83045029260102, -76.99090266316013, 0.0),\n",
       " (38.830453669537434, -76.99089746603104, 0.0),\n",
       " (38.830457046473846, -76.99089226890196, 0.0),\n",
       " (38.83046042341026, -76.99088707177286, 0.0),\n",
       " (38.830463800346664, -76.99088187464378, 0.0),\n",
       " (38.830467177283076, -76.99087667751469, 0.0),\n",
       " (38.83047055421949, -76.99087148038561, 0.0),\n",
       " None,\n",
       " None,\n",
       " None,\n",
       " None,\n",
       " (38.83150849461598, -76.99183697175077, 0.0),\n",
       " (38.83144510632532, -76.99191775266735, 0.0),\n",
       " None,\n",
       " None,\n",
       " (38.831318329743986, -76.99207931450051, 0.0),\n",
       " (38.831254941453324, -76.99216009541709, 0.0),\n",
       " None,\n",
       " (38.831128164872, -76.99232165725026, 0.0),\n",
       " (38.83106477658133, -76.99240243816683, 0.0),\n",
       " None,\n",
       " (38.831001388290666, -76.99248321908343, 0.0),\n",
       " (38.830938, -76.992564, 0.0),\n",
       " (38.830763, -76.992786, 0.0),\n",
       " (38.83072406386442, -76.99283587181026, 0.0),\n",
       " (38.830685349069064, -76.99288592135558, 0.0),\n",
       " None,\n",
       " (38.830646634273705, -76.99293597090092, 0.0),\n",
       " (38.830607919478346, -76.99298602044624, 0.0),\n",
       " (38.83056920468299, -76.99303606999158, 0.0),\n",
       " (38.83053048988763, -76.99308611953691, 0.0),\n",
       " (38.83067178242973, -76.99131287782738, 0.0),\n",
       " (38.83066322074244, -76.99132336761583, 0.0),\n",
       " (38.83065465905515, -76.99133385740427, 0.0),\n",
       " (38.83064609736786, -76.99134434719272, 0.0),\n",
       " None,\n",
       " (38.83062897399328, -76.99136532676962, 0.0),\n",
       " (38.83062041230599, -76.99137581655808, 0.0),\n",
       " (38.8306118506187, -76.99138630634653, 0.0),\n",
       " (38.83077511557013, -76.99148959862404, 0.0),\n",
       " (38.8307853527558, -76.99147745191152, 0.0),\n",
       " (38.83079558994147, -76.99146530519899, 0.0),\n",
       " (38.830805827127136, -76.99145315848645, 0.0),\n",
       " (38.830816064312806, -76.99144101177392, 0.0),\n",
       " (38.830826301498476, -76.9914288650614, 0.0),\n",
       " (38.83056048049496, -76.99144924507722, 0.0),\n",
       " (38.83056904218225, -76.99143875528877, 0.0),\n",
       " (38.830577603869536, -76.99142826550032, 0.0),\n",
       " (38.83058616555683, -76.99141777571187, 0.0),\n",
       " (38.83059472724412, -76.99140728592343, 0.0),\n",
       " (38.83060328893141, -76.99139679613498, 0.0),\n",
       " (38.8307136924561, -76.99156247889924, 0.0),\n",
       " (38.83072392964177, -76.9915503321867, 0.0),\n",
       " (38.83073416682744, -76.99153818547417, 0.0),\n",
       " (38.83074440401311, -76.99152603876165, 0.0),\n",
       " (38.83075464119879, -76.99151389204911, 0.0),\n",
       " (38.83076487838446, -76.99150174533658, 0.0),\n",
       " (38.830652269342075, -76.99163535917442, 0.0),\n",
       " (38.830662506527744, -76.9916232124619, 0.0),\n",
       " (38.83067274371342, -76.99161106574937, 0.0),\n",
       " (38.83068298089909, -76.99159891903683, 0.0),\n",
       " (38.83069321808476, -76.9915867723243, 0.0),\n",
       " (38.83070345527043, -76.99157462561178, 0.0),\n",
       " (38.83061335, -76.99122345227272, 0.0),\n",
       " (38.829667549999996, -76.99398923194039, 0.0),\n",
       " (38.82970125, -76.99394673467327, 0.0),\n",
       " (38.82975725, -76.99387774004256, 0.0),\n",
       " (38.829790149999994, -76.99383624446169, 0.0),\n",
       " (38.82984315, -76.9937650446281, 0.0),\n",
       " (38.8298774, -76.99372243812755, 0.0),\n",
       " (38.8299313, -76.99365424999999, 0.0),\n",
       " (38.82996345, -76.99361205, 0.0),\n",
       " (38.83002285, -76.99354916955168, 0.0),\n",
       " (38.8300561, -76.99350559715228, 0.0),\n",
       " (38.8293731, -76.9942931448858, 0.0),\n",
       " (38.82958335, -76.99414382264916, 0.0),\n",
       " (38.82949535, -76.99296723631824, 0.0),\n",
       " (38.829441450000004, -76.99318242499999, 0.0),\n",
       " (38.8293734, -76.99245440558047, 0.0),\n",
       " (38.8292865387098, -76.99303794322063, 0.0),\n",
       " (38.829286, -76.99340358738563, 0.0),\n",
       " (38.8307724, -76.99775387524713, 0.0),\n",
       " (38.8307722, -76.99769877931554, 0.0),\n",
       " (38.830772, -76.99757813050459, 0.0),\n",
       " (38.83077165, -76.99752278169962, 0.0),\n",
       " (38.83078295, -76.99740196143532, 0.0),\n",
       " (38.830783, -76.99734551110552, 0.0),\n",
       " (38.830774, -76.99722685052743, 0.0),\n",
       " (38.83077385, -76.99717052826907, 0.0),\n",
       " (38.8307825, -76.99705141252676, 0.0),\n",
       " (38.8307839, -76.9969949, 0.0),\n",
       " (38.830778699999996, -76.99661670011363, 0.0),\n",
       " (38.8307789, -76.99655112482955, 0.0),\n",
       " (38.8307774, -76.99591464999999, 0.0),\n",
       " (38.8307774, -76.995849575, 0.0),\n",
       " (38.8307786, -76.99573816162619, 0.0),\n",
       " (38.830778249999995, -76.99567319159976, 0.0),\n",
       " (38.830778050000006, -76.99556035011261, 0.0),\n",
       " (38.8307782, -76.99549437934007, 0.0),\n",
       " (38.8307699, -76.99537195136116, 0.0),\n",
       " (38.8307801, -76.99530373754504, 0.0),\n",
       " (38.83027745, -76.99792489865621, 0.0),\n",
       " (38.830277800000005, -76.99798092499981, 0.0),\n",
       " (38.8302764, -76.99807907499999, 0.0),\n",
       " (38.8302764, -76.998135975, 0.0),\n",
       " (38.830278050000004, -76.99823404961069, 0.0),\n",
       " (38.830277800000005, -76.99829095, 0.0),\n",
       " (38.83027595, -76.99746084129521, 0.0),\n",
       " (38.830275799999995, -76.99751843207137, 0.0),\n",
       " (38.8302765, -76.99761544976771, 0.0),\n",
       " (38.83027615, -76.99767277643329, 0.0),\n",
       " (38.8302764, -76.99776912499999, 0.0),\n",
       " (38.83027645, -76.99782769983497, 0.0),\n",
       " (38.830275650000004, -76.99684252182047, 0.0),\n",
       " (38.8302753, -76.99690020005369, 0.0),\n",
       " (38.83027545, -76.99699644966996, 0.0),\n",
       " (38.8302753, -76.99705442541253, 0.0),\n",
       " (38.8302756, -76.99715117491621, 0.0),\n",
       " (38.830275900000004, -76.997208946065, 0.0),\n",
       " (38.83027525, -76.99730615016666, 0.0),\n",
       " (38.8302753, -76.99736382500001, 0.0),\n",
       " (38.8302762, -76.99622409953173, 0.0),\n",
       " (38.83027615, -76.99628217759593, 0.0),\n",
       " (38.83027635, -76.99637849836957, 0.0),\n",
       " (38.8302761, -76.99643623772116, 0.0),\n",
       " (38.830276049999995, -76.99653336106987, 0.0),\n",
       " (38.8302761, -76.99659080025066, 0.0),\n",
       " (38.8302754, -76.99668834492215, 0.0),\n",
       " (38.8302752, -76.99674540055432, 0.0),\n",
       " (38.83029905, -76.99574712534198, 0.0),\n",
       " (38.830274450000005, -76.99594880009025, 0.0),\n",
       " (38.83069955, -76.99684584196568, 0.0),\n",
       " (38.830873844285996, -76.99809398902686, 0.0),\n",
       " (38.83087440698465, -76.99630105571276, 0.0),\n",
       " (38.83087391102057, -76.9982015651582, 0.0),\n",
       " (38.83087393326543, -76.99823742386864, 0.0),\n",
       " (38.83087386653086, -76.9981298477373, 0.0),\n",
       " (38.83087405657559, -76.9964086312941, 0.0),\n",
       " (38.830873939772566, -76.99644448982123, 0.0),\n",
       " (38.83087370616653, -76.99651620687546, 0.0),\n",
       " (38.830874290181626, -76.99633691423988, 0.0),\n",
       " (38.83087397775515, -76.99830914128955, 0.0),\n",
       " (38.830874, -76.998345, 0.0),\n",
       " (38.830873955510285, -76.9982732825791, 0.0),\n",
       " (38.830873589363506, -76.99655206540258, 0.0),\n",
       " None,\n",
       " None,\n",
       " None,\n",
       " None,\n",
       " None,\n",
       " None,\n",
       " None,\n",
       " None,\n",
       " None,\n",
       " None,\n",
       " None,\n",
       " None,\n",
       " None,\n",
       " None,\n",
       " None,\n",
       " None,\n",
       " None,\n",
       " None,\n",
       " None,\n",
       " None,\n",
       " None,\n",
       " None,\n",
       " None,\n",
       " None,\n",
       " None,\n",
       " None,\n",
       " None,\n",
       " None,\n",
       " None,\n",
       " None,\n",
       " None,\n",
       " None,\n",
       " None,\n",
       " None,\n",
       " None,\n",
       " None,\n",
       " None,\n",
       " None,\n",
       " None,\n",
       " None,\n",
       " None,\n",
       " None,\n",
       " None,\n",
       " None,\n",
       " None,\n",
       " None,\n",
       " None,\n",
       " None,\n",
       " None,\n",
       " None,\n",
       " None,\n",
       " None,\n",
       " None,\n",
       " None,\n",
       " None,\n",
       " None,\n",
       " None,\n",
       " None,\n",
       " None,\n",
       " None,\n",
       " None,\n",
       " None,\n",
       " None,\n",
       " None,\n",
       " None,\n",
       " None,\n",
       " None,\n",
       " None,\n",
       " None,\n",
       " None,\n",
       " None,\n",
       " None,\n",
       " None,\n",
       " None,\n",
       " None,\n",
       " None,\n",
       " None,\n",
       " None,\n",
       " None,\n",
       " None,\n",
       " None,\n",
       " None,\n",
       " None,\n",
       " None,\n",
       " None,\n",
       " None,\n",
       " None,\n",
       " None,\n",
       " None,\n",
       " (38.829423199999994, -76.99696783139373, 0.0),\n",
       " (38.8294228, -76.99702796829511, 0.0),\n",
       " (38.8294218, -76.99708727448984, 0.0),\n",
       " (38.829421800000006, -76.99721733234111, 0.0),\n",
       " (38.82942105, -76.9972806670325, 0.0),\n",
       " (38.8294214, -76.99734172267195, 0.0),\n",
       " (38.8294217, -76.99747054419946, 0.0),\n",
       " (38.829421499999995, -76.99753227525022, 0.0),\n",
       " (38.82942145, -76.99759321011416, 0.0),\n",
       " (38.829420850000005, -76.99772474714673, 0.0),\n",
       " (38.829420400000004, -76.99778519477124, 0.0),\n",
       " (38.8294215, -76.99784545379771, 0.0),\n",
       " (38.829422050000005, -76.997977972522, 0.0),\n",
       " (38.82942155, -76.99803797476002, 0.0),\n",
       " (38.82942095, -76.9980983846663, 0.0),\n",
       " (38.829885399999995, -76.9981167420296, 0.0),\n",
       " (38.8298857, -76.99805992428112, 0.0),\n",
       " (38.829886450000004, -76.99796189966064, 0.0),\n",
       " (38.82989165, -76.99789815927602, 0.0),\n",
       " (38.8298869, -76.99780582460542, 0.0),\n",
       " (38.8298869, -76.99775063233723, 0.0),\n",
       " (38.8298882, -76.99765037577434, 0.0),\n",
       " (38.8298886, -76.99759404933629, 0.0),\n",
       " (38.829887, -76.99749752688169, 0.0),\n",
       " (38.8298876, -76.99743962229167, 0.0),\n",
       " (38.82988625, -76.99734292461538, 0.0),\n",
       " (38.829886200000004, -76.99728492510941, 0.0),\n",
       " (38.8298871, -76.9971879996113, 0.0),\n",
       " (38.82988755, -76.99713022491555, 0.0),\n",
       " (38.829886349999995, -76.99703430187785, 0.0),\n",
       " (38.8298868, -76.99697641976547, 0.0),\n",
       " (38.829885700000005, -76.99687914901747, 0.0),\n",
       " (38.829886349999995, -76.99682097508187, 0.0),\n",
       " (38.82988545, -76.99672526070287, 0.0),\n",
       " (38.82988635, -76.99666787595714, 0.0),\n",
       " (38.82988725, -76.99656009705882, 0.0),\n",
       " (38.82988735, -76.996502274747, 0.0),\n",
       " (38.8294268, -76.99581180008056, 0.0),\n",
       " (38.8294268, -76.99587121130644, 0.0),\n",
       " (38.8294287, -76.99597067201844, 0.0),\n",
       " (38.829427949999996, -76.99603062492235, 0.0),\n",
       " (38.82942765, -76.99612496163891, 0.0),\n",
       " (38.82942755, -76.99618604946139, 0.0),\n",
       " (38.82942865, -76.99628629786461, 0.0),\n",
       " (38.82942825, -76.9963467232264, 0.0),\n",
       " (38.829429649999994, -76.9964432154938, 0.0),\n",
       " (38.82942275, -76.99651281568379, 0.0),\n",
       " (38.8299102, -76.99829141888068, 0.0),\n",
       " (38.82928447233725, -76.9955037324005, 0.0),\n",
       " (38.82962268406098, -76.99454790213073, 0.0),\n",
       " (38.82928537457186, -76.99752974754624, 0.0),\n",
       " (38.829441700000004, -76.99828405, 0.0),\n",
       " None,\n",
       " None,\n",
       " None,\n",
       " None,\n",
       " None,\n",
       " None,\n",
       " None,\n",
       " None,\n",
       " None,\n",
       " None,\n",
       " None,\n",
       " None,\n",
       " None,\n",
       " None,\n",
       " None,\n",
       " None,\n",
       " None,\n",
       " None,\n",
       " None,\n",
       " None,\n",
       " None,\n",
       " None,\n",
       " None,\n",
       " None,\n",
       " None,\n",
       " None,\n",
       " None,\n",
       " None,\n",
       " None,\n",
       " None,\n",
       " None,\n",
       " None,\n",
       " None,\n",
       " None,\n",
       " None,\n",
       " None,\n",
       " None,\n",
       " None,\n",
       " None,\n",
       " None,\n",
       " None,\n",
       " None,\n",
       " None,\n",
       " None,\n",
       " None,\n",
       " None,\n",
       " None,\n",
       " None,\n",
       " None,\n",
       " None,\n",
       " None,\n",
       " None,\n",
       " None,\n",
       " None,\n",
       " None,\n",
       " None,\n",
       " None,\n",
       " None,\n",
       " (38.6967833, -76.8477485, 0.0),\n",
       " (38.6967833, -76.8477485, 0.0),\n",
       " (38.6967833, -76.8477485, 0.0),\n",
       " (38.6967833, -76.8477485, 0.0),\n",
       " (38.6967833, -76.8477485, 0.0),\n",
       " (38.6967833, -76.8477485, 0.0),\n",
       " (38.6967833, -76.8477485, 0.0),\n",
       " (38.6967833, -76.8477485, 0.0),\n",
       " (38.6967833, -76.8477485, 0.0),\n",
       " (38.6967833, -76.8477485, 0.0),\n",
       " None,\n",
       " (38.6967833, -76.8477485, 0.0),\n",
       " (38.6967833, -76.8477485, 0.0),\n",
       " (38.6967833, -76.8477485, 0.0),\n",
       " (38.6967833, -76.8477485, 0.0),\n",
       " (38.6967833, -76.8477485, 0.0),\n",
       " (38.6967833, -76.8477485, 0.0),\n",
       " (38.6967833, -76.8477485, 0.0),\n",
       " (38.6967833, -76.8477485, 0.0),\n",
       " (38.6967833, -76.8477485, 0.0),\n",
       " (38.6967833, -76.8477485, 0.0),\n",
       " (38.6967833, -76.8477485, 0.0),\n",
       " (38.6967833, -76.8477485, 0.0),\n",
       " (38.6967833, -76.8477485, 0.0),\n",
       " (38.6967833, -76.8477485, 0.0),\n",
       " (38.6967833, -76.8477485, 0.0),\n",
       " (38.6967833, -76.8477485, 0.0),\n",
       " None,\n",
       " None,\n",
       " None,\n",
       " None,\n",
       " None,\n",
       " None,\n",
       " None,\n",
       " None,\n",
       " None,\n",
       " None,\n",
       " None,\n",
       " None,\n",
       " None,\n",
       " None,\n",
       " None,\n",
       " None,\n",
       " None,\n",
       " None,\n",
       " None,\n",
       " None,\n",
       " None,\n",
       " None,\n",
       " None,\n",
       " None,\n",
       " None,\n",
       " None,\n",
       " None,\n",
       " None,\n",
       " (38.6967833, -76.8477485, 0.0),\n",
       " (38.6967833, -76.8477485, 0.0),\n",
       " None,\n",
       " None,\n",
       " None,\n",
       " None,\n",
       " None,\n",
       " None,\n",
       " None,\n",
       " None,\n",
       " None,\n",
       " None,\n",
       " None,\n",
       " None,\n",
       " None,\n",
       " None,\n",
       " None,\n",
       " None,\n",
       " None,\n",
       " None,\n",
       " None,\n",
       " None,\n",
       " None,\n",
       " None,\n",
       " None,\n",
       " None,\n",
       " None,\n",
       " None,\n",
       " (38.6967833, -76.8477485, 0.0),\n",
       " (38.6967833, -76.8477485, 0.0),\n",
       " (38.6967833, -76.8477485, 0.0),\n",
       " (38.6967833, -76.8477485, 0.0),\n",
       " (38.6967833, -76.8477485, 0.0),\n",
       " (38.6967833, -76.8477485, 0.0),\n",
       " (38.6967833, -76.8477485, 0.0),\n",
       " (38.6967833, -76.8477485, 0.0),\n",
       " (38.6967833, -76.8477485, 0.0),\n",
       " (38.6967833, -76.8477485, 0.0),\n",
       " (38.6967833, -76.8477485, 0.0),\n",
       " (38.6967833, -76.8477485, 0.0),\n",
       " (38.6967833, -76.8477485, 0.0),\n",
       " (38.6967833, -76.8477485, 0.0),\n",
       " (38.6967833, -76.8477485, 0.0),\n",
       " (38.6967833, -76.8477485, 0.0),\n",
       " (38.6967833, -76.8477485, 0.0),\n",
       " (38.6967833, -76.8477485, 0.0),\n",
       " (38.6967833, -76.8477485, 0.0),\n",
       " (38.82987125, -77.00035120014286, 0.0),\n",
       " (38.82987125, -77.00029456993704, 0.0),\n",
       " (38.8298724, -77.00017607456114, 0.0),\n",
       " (38.82987265, -77.00011860030378, 0.0),\n",
       " (38.829872949999995, -77.0000001497962, 0.0),\n",
       " (38.829866949999996, -76.99994289175466, 0.0),\n",
       " (38.829872449999996, -76.99982625191592, 0.0),\n",
       " (38.82987885, -76.99976870389554, 0.0),\n",
       " (38.829878050000005, -76.99964872579942, 0.0),\n",
       " (38.829871350000005, -76.99959004562857, 0.0),\n",
       " (38.82989925, -76.99895202583812, 0.0),\n",
       " (38.829899499999996, -76.998884525, 0.0),\n",
       " (38.829898299999996, -76.99877655090626, 0.0),\n",
       " (38.82989875, -76.99870907439583, 0.0),\n",
       " (38.8294216, -76.99869912560533, 0.0),\n",
       " (38.82942145, -76.99876127640692, 0.0),\n",
       " (38.829420600000006, -76.99882229610469, 0.0),\n",
       " (38.8294208, -76.99895225027339, 0.0),\n",
       " (38.829420600000006, -76.99901396697476, 0.0),\n",
       " (38.8294216, -76.99907445261644, 0.0),\n",
       " (38.829422300000004, -76.99920657205672, 0.0),\n",
       " (38.8294217, -76.99926728337644, 0.0),\n",
       " (38.82941995, -76.99932577756803, 0.0),\n",
       " (38.829361950000006, -77.00026669473107, 0.0),\n",
       " (38.829906, -76.99909315, 0.0),\n",
       " (38.82928687396294, -77.00028497953271, 0.0),\n",
       " (38.82928689196824, -77.00030269674232, 0.0),\n",
       " (38.82999730083955, -77.00014748414137, 0.0),\n",
       " (38.8299974295894, -77.00012971666312, 0.0),\n",
       " (38.82928681994706, -77.00023182790387, 0.0),\n",
       " (38.82928680194176, -77.00021411069426, 0.0),\n",
       " None,\n",
       " None,\n",
       " None,\n",
       " None,\n",
       " None,\n",
       " None,\n",
       " None,\n",
       " None,\n",
       " (38.83026805, -76.99870960157222, 0.0),\n",
       " (38.8302678, -76.99877207593917, 0.0),\n",
       " (38.8302688, -76.9988849503902, 0.0),\n",
       " (38.83026825, -76.99895037721461, 0.0),\n",
       " (38.8302906, -76.99959112410468, 0.0),\n",
       " (38.8302908, -76.9996486258953, 0.0)]"
      ]
     },
     "execution_count": 99,
     "metadata": {},
     "output_type": "execute_result"
    }
   ],
   "source": [
    "df3['point'].tolist()"
   ]
  },
  {
   "cell_type": "code",
   "execution_count": 98,
   "metadata": {},
   "outputs": [
    {
     "name": "stderr",
     "output_type": "stream",
     "text": [
      "/Users/xuechunwang/.local/lib/python3.6/site-packages/pandas/core/indexing.py:494: SettingWithCopyWarning: \n",
      "A value is trying to be set on a copy of a slice from a DataFrame.\n",
      "Try using .loc[row_indexer,col_indexer] = value instead\n",
      "\n",
      "See the caveats in the documentation: http://pandas.pydata.org/pandas-docs/stable/user_guide/indexing.html#returning-a-view-versus-a-copy\n",
      "  self.obj[item] = s\n"
     ]
    }
   ],
   "source": [
    "b, c = df3.iloc[0], df3.iloc[8]\n",
    "temp = df3.iloc[0].copy()\n",
    "df3.iloc[0] = c\n",
    "df3.iloc[8] = temp"
   ]
  },
  {
   "cell_type": "code",
   "execution_count": 93,
   "metadata": {},
   "outputs": [
    {
     "name": "stdout",
     "output_type": "stream",
     "text": [
      "(38.831765, -76.991659, 0.0)\n"
     ]
    }
   ],
   "source": [
    "print(df2.iloc[0,11])"
   ]
  },
  {
   "cell_type": "code",
   "execution_count": 101,
   "metadata": {},
   "outputs": [
    {
     "data": {
      "text/html": [
       "<div>\n",
       "<style scoped>\n",
       "    .dataframe tbody tr th:only-of-type {\n",
       "        vertical-align: middle;\n",
       "    }\n",
       "\n",
       "    .dataframe tbody tr th {\n",
       "        vertical-align: top;\n",
       "    }\n",
       "\n",
       "    .dataframe thead th {\n",
       "        text-align: right;\n",
       "    }\n",
       "</style>\n",
       "<table border=\"1\" class=\"dataframe\">\n",
       "  <thead>\n",
       "    <tr style=\"text-align: right;\">\n",
       "      <th></th>\n",
       "      <th>latitude</th>\n",
       "      <th>longitude</th>\n",
       "      <th>altitude</th>\n",
       "    </tr>\n",
       "  </thead>\n",
       "  <tbody>\n",
       "    <tr>\n",
       "      <td>0</td>\n",
       "      <td>38.830447</td>\n",
       "      <td>-76.990908</td>\n",
       "      <td>0.0</td>\n",
       "    </tr>\n",
       "    <tr>\n",
       "      <td>1</td>\n",
       "      <td>NaN</td>\n",
       "      <td>NaN</td>\n",
       "      <td>NaN</td>\n",
       "    </tr>\n",
       "    <tr>\n",
       "      <td>2</td>\n",
       "      <td>NaN</td>\n",
       "      <td>NaN</td>\n",
       "      <td>NaN</td>\n",
       "    </tr>\n",
       "    <tr>\n",
       "      <td>3</td>\n",
       "      <td>NaN</td>\n",
       "      <td>NaN</td>\n",
       "      <td>NaN</td>\n",
       "    </tr>\n",
       "    <tr>\n",
       "      <td>4</td>\n",
       "      <td>NaN</td>\n",
       "      <td>NaN</td>\n",
       "      <td>NaN</td>\n",
       "    </tr>\n",
       "    <tr>\n",
       "      <td>...</td>\n",
       "      <td>...</td>\n",
       "      <td>...</td>\n",
       "      <td>...</td>\n",
       "    </tr>\n",
       "    <tr>\n",
       "      <td>495</td>\n",
       "      <td>38.830268</td>\n",
       "      <td>-76.998772</td>\n",
       "      <td>0.0</td>\n",
       "    </tr>\n",
       "    <tr>\n",
       "      <td>496</td>\n",
       "      <td>38.830269</td>\n",
       "      <td>-76.998885</td>\n",
       "      <td>0.0</td>\n",
       "    </tr>\n",
       "    <tr>\n",
       "      <td>497</td>\n",
       "      <td>38.830268</td>\n",
       "      <td>-76.998950</td>\n",
       "      <td>0.0</td>\n",
       "    </tr>\n",
       "    <tr>\n",
       "      <td>498</td>\n",
       "      <td>38.830291</td>\n",
       "      <td>-76.999591</td>\n",
       "      <td>0.0</td>\n",
       "    </tr>\n",
       "    <tr>\n",
       "      <td>499</td>\n",
       "      <td>38.830291</td>\n",
       "      <td>-76.999649</td>\n",
       "      <td>0.0</td>\n",
       "    </tr>\n",
       "  </tbody>\n",
       "</table>\n",
       "<p>500 rows × 3 columns</p>\n",
       "</div>"
      ],
      "text/plain": [
       "      latitude  longitude  altitude\n",
       "0    38.830447 -76.990908       0.0\n",
       "1          NaN        NaN       NaN\n",
       "2          NaN        NaN       NaN\n",
       "3          NaN        NaN       NaN\n",
       "4          NaN        NaN       NaN\n",
       "..         ...        ...       ...\n",
       "495  38.830268 -76.998772       0.0\n",
       "496  38.830269 -76.998885       0.0\n",
       "497  38.830268 -76.998950       0.0\n",
       "498  38.830291 -76.999591       0.0\n",
       "499  38.830291 -76.999649       0.0\n",
       "\n",
       "[500 rows x 3 columns]"
      ]
     },
     "execution_count": 101,
     "metadata": {},
     "output_type": "execute_result"
    }
   ],
   "source": [
    "pd.DataFrame(df3['point'].tolist(), columns=['latitude', 'longitude', 'altitude'])"
   ]
  },
  {
   "cell_type": "code",
   "execution_count": 102,
   "metadata": {},
   "outputs": [
    {
     "name": "stderr",
     "output_type": "stream",
     "text": [
      "/Users/xuechunwang/.local/lib/python3.6/site-packages/pandas/core/frame.py:3494: SettingWithCopyWarning: \n",
      "A value is trying to be set on a copy of a slice from a DataFrame.\n",
      "Try using .loc[row_indexer,col_indexer] = value instead\n",
      "\n",
      "See the caveats in the documentation: http://pandas.pydata.org/pandas-docs/stable/user_guide/indexing.html#returning-a-view-versus-a-copy\n",
      "  self[k1] = value[k2]\n"
     ]
    }
   ],
   "source": [
    "df3[['latitude', 'longitude', 'altitude']] = pd.DataFrame(df3.point.values.tolist(),index= df3.index)"
   ]
  },
  {
   "cell_type": "code",
   "execution_count": 103,
   "metadata": {},
   "outputs": [
    {
     "data": {
      "text/plain": [
       "(500, 15)"
      ]
     },
     "execution_count": 103,
     "metadata": {},
     "output_type": "execute_result"
    }
   ],
   "source": [
    "df3.shape"
   ]
  },
  {
   "cell_type": "code",
   "execution_count": 104,
   "metadata": {},
   "outputs": [],
   "source": [
    "df3_new = df3"
   ]
  },
  {
   "cell_type": "code",
   "execution_count": 105,
   "metadata": {},
   "outputs": [
    {
     "name": "stdout",
     "output_type": "stream",
     "text": [
      "DONE 1\n"
     ]
    },
    {
     "name": "stderr",
     "output_type": "stream",
     "text": [
      "/Users/xuechunwang/anaconda3/lib/python3.6/site-packages/ipykernel_launcher.py:18: SettingWithCopyWarning: \n",
      "A value is trying to be set on a copy of a slice from a DataFrame.\n",
      "Try using .loc[row_indexer,col_indexer] = value instead\n",
      "\n",
      "See the caveats in the documentation: http://pandas.pydata.org/pandas-docs/stable/user_guide/indexing.html#returning-a-view-versus-a-copy\n",
      "/Users/xuechunwang/anaconda3/lib/python3.6/site-packages/ipykernel_launcher.py:20: SettingWithCopyWarning: \n",
      "A value is trying to be set on a copy of a slice from a DataFrame.\n",
      "Try using .loc[row_indexer,col_indexer] = value instead\n",
      "\n",
      "See the caveats in the documentation: http://pandas.pydata.org/pandas-docs/stable/user_guide/indexing.html#returning-a-view-versus-a-copy\n",
      "/Users/xuechunwang/.local/lib/python3.6/site-packages/pandas/core/frame.py:3494: SettingWithCopyWarning: \n",
      "A value is trying to be set on a copy of a slice from a DataFrame.\n",
      "Try using .loc[row_indexer,col_indexer] = value instead\n",
      "\n",
      "See the caveats in the documentation: http://pandas.pydata.org/pandas-docs/stable/user_guide/indexing.html#returning-a-view-versus-a-copy\n",
      "  self[k1] = value[k2]\n"
     ]
    }
   ],
   "source": [
    "df4_new = convert_lat_long(df4)\n",
    "print('DONE 1')"
   ]
  },
  {
   "cell_type": "code",
   "execution_count": 106,
   "metadata": {},
   "outputs": [],
   "source": [
    "final_df = pd.concat([df1_new, df2_new, df3_new, df4_new])\n",
    "final_df.to_csv(\"congress_heights_converted.csv\")"
   ]
  },
  {
   "cell_type": "code",
   "execution_count": 108,
   "metadata": {},
   "outputs": [
    {
     "data": {
      "text/plain": [
       "(1938, 15)"
      ]
     },
     "execution_count": 108,
     "metadata": {},
     "output_type": "execute_result"
    }
   ],
   "source": [
    "final_df.shape"
   ]
  },
  {
   "cell_type": "code",
   "execution_count": null,
   "metadata": {},
   "outputs": [],
   "source": [
    "column rpt[rpt['STK_ID'].str.contains(r'^600[0-9]{3}$')]"
   ]
  },
  {
   "cell_type": "code",
   "execution_count": 112,
   "metadata": {},
   "outputs": [],
   "source": [
    "import pandas as pd\n",
    "mydf = pd.read_excel('retry.xlsx')"
   ]
  },
  {
   "cell_type": "code",
   "execution_count": 113,
   "metadata": {},
   "outputs": [
    {
     "data": {
      "text/html": [
       "<div>\n",
       "<style scoped>\n",
       "    .dataframe tbody tr th:only-of-type {\n",
       "        vertical-align: middle;\n",
       "    }\n",
       "\n",
       "    .dataframe tbody tr th {\n",
       "        vertical-align: top;\n",
       "    }\n",
       "\n",
       "    .dataframe thead th {\n",
       "        text-align: right;\n",
       "    }\n",
       "</style>\n",
       "<table border=\"1\" class=\"dataframe\">\n",
       "  <thead>\n",
       "    <tr style=\"text-align: right;\">\n",
       "      <th></th>\n",
       "      <th>address</th>\n",
       "    </tr>\n",
       "  </thead>\n",
       "  <tbody>\n",
       "    <tr>\n",
       "      <td>0</td>\n",
       "      <td>1302 Barnaby Terrace SE, DC, United States</td>\n",
       "    </tr>\n",
       "    <tr>\n",
       "      <td>1</td>\n",
       "      <td>1304 Barnaby Terrace SE, DC, United States</td>\n",
       "    </tr>\n",
       "    <tr>\n",
       "      <td>2</td>\n",
       "      <td>1306 Barnaby Terrace SE, DC, United States</td>\n",
       "    </tr>\n",
       "    <tr>\n",
       "      <td>3</td>\n",
       "      <td>1308 Barnaby Terrace SE, DC, United States</td>\n",
       "    </tr>\n",
       "    <tr>\n",
       "      <td>4</td>\n",
       "      <td>1310 Barnaby Terrace SE, DC, United States</td>\n",
       "    </tr>\n",
       "  </tbody>\n",
       "</table>\n",
       "</div>"
      ],
      "text/plain": [
       "                                      address\n",
       "0  1302 Barnaby Terrace SE, DC, United States\n",
       "1  1304 Barnaby Terrace SE, DC, United States\n",
       "2  1306 Barnaby Terrace SE, DC, United States\n",
       "3  1308 Barnaby Terrace SE, DC, United States\n",
       "4  1310 Barnaby Terrace SE, DC, United States"
      ]
     },
     "execution_count": 113,
     "metadata": {},
     "output_type": "execute_result"
    }
   ],
   "source": [
    "mydf.head()"
   ]
  },
  {
   "cell_type": "code",
   "execution_count": 114,
   "metadata": {},
   "outputs": [],
   "source": [
    "# 1 - conveneint function to delay between geocoding calls\n",
    "geocode = RateLimiter(locator.geocode, min_delay_seconds=1)\n",
    "# 2- - create location column\n",
    "mydf['location'] = mydf['address'].apply(geocode)\n",
    "# 3 - create longitude, laatitude and altitude from location column (returns tuple)\n",
    "mydf['point'] = mydf['location'].apply(lambda loc: tuple(loc.point) if loc else None)\n",
    "# 4 - split point column into latitude, longitude and altitude columns\n",
    "mydf[['latitude', 'longitude', 'altitude']] = pd.DataFrame(mydf['point'].tolist(), index=mydf.index)"
   ]
  },
  {
   "cell_type": "code",
   "execution_count": 115,
   "metadata": {},
   "outputs": [],
   "source": [
    "mydf.to_csv(\"retry.csv\")"
   ]
  },
  {
   "cell_type": "markdown",
   "metadata": {},
   "source": [
    "Then manually fix the uncoverted address and load the data again:"
   ]
  },
  {
   "cell_type": "code",
   "execution_count": null,
   "metadata": {},
   "outputs": [],
   "source": [
    "import pandas as pd\n",
    "mydf = pd.read_excel('congress_heights_converted.xlsm')"
   ]
  },
  {
   "cell_type": "code",
   "execution_count": null,
   "metadata": {},
   "outputs": [],
   "source": [
    "mydf.head()"
   ]
  },
  {
   "cell_type": "markdown",
   "metadata": {},
   "source": [
    "## Property Data Visualization:"
   ]
  },
  {
   "cell_type": "code",
   "execution_count": null,
   "metadata": {},
   "outputs": [],
   "source": [
    "mydf.isnull().sum(axis = 0)"
   ]
  },
  {
   "cell_type": "code",
   "execution_count": null,
   "metadata": {},
   "outputs": [],
   "source": [
    "ave_lat = sum(mydf.latitude)/len(mydf.latitude)\n",
    "ave_long = sum(mydf.longitude)/len(mydf.longitude)"
   ]
  },
  {
   "cell_type": "code",
   "execution_count": null,
   "metadata": {},
   "outputs": [],
   "source": [
    "import folium\n",
    "import folium.plugins\n",
    "from folium.plugins import MarkerCluster\n",
    "\n",
    "ch_map = folium.Map(location=[ave_lat,ave_long],\n",
    "                        zoom_start=14,\n",
    "                        tiles=\"OpenStreetMap\")"
   ]
  },
  {
   "cell_type": "code",
   "execution_count": null,
   "metadata": {},
   "outputs": [],
   "source": [
    "for i in range(len(mydf['latitude'])):\n",
    "    lat = mydf.iloc[i][13]\n",
    "    long = mydf.iloc[i][14]\n",
    "    #color = mydf.iloc[i][25]\n",
    "    popup_text = \"\"\" Owner Name : {}<br>\n",
    "                Sale Price : {}<br>\n",
    "                2020 Total Price: {}<br>\n",
    "                Premise Address : {}<br>\"\"\" \n",
    "        \n",
    "    popup_text = popup_text.format(mydf.iloc[i][3],\n",
    "                                mydf.iloc[i][7],\n",
    "                                mydf.iloc[i][9],\n",
    "                                mydf.iloc[i][2]\n",
    "                               )\n",
    "    if 'DISTRICT OF COLUMBIA' in mydf.iloc[i][3]:\n",
    "        folium.Marker(location = [lat, long], popup= folium.Popup(popup_text, max_width=400), icon=folium.Icon(color='blue', icon_color='white', icon='university', prefix='fa')).add_to(ch_map)\n",
    "    elif mydf.iloc[i][6] == 83:\n",
    "        folium.Marker(location = [lat, long], popup= folium.Popup(popup_text, max_width=400), icon=folium.Icon(color='green', icon_color='white', icon='book', prefix='fa')).add_to(ch_map)\n",
    "    elif mydf.iloc[i][6] == 81:\n",
    "        folium.Marker(location = [lat, long], popup= folium.Popup(popup_text, max_width=400), icon=folium.Icon(color='orange',icon_color='white',  icon= 'plus', prefix='fa')).add_to(ch_map)\n",
    "    else:\n",
    "        folium.Circle(location = [lat, long], popup= folium.Popup(popup_text, max_width=400), radius = 2, color='black').add_to(ch_map)\n",
    "            "
   ]
  },
  {
   "cell_type": "code",
   "execution_count": null,
   "metadata": {},
   "outputs": [],
   "source": [
    "from branca.element import Template, MacroElement\n",
    "\n",
    "template = \"\"\"\n",
    "{% macro html(this, kwargs) %}\n",
    "\n",
    "<!doctype html>\n",
    "<html lang=\"en\">\n",
    "<head>\n",
    "  <meta charset=\"utf-8\">\n",
    "  <meta name=\"viewport\" content=\"width=device-width, initial-scale=1\">\n",
    "  <title>jQuery UI Draggable - Default functionality</title>\n",
    "  <link rel=\"stylesheet\" href=\"//code.jquery.com/ui/1.12.1/themes/base/jquery-ui.css\">\n",
    "\n",
    "  <script src=\"https://code.jquery.com/jquery-1.12.4.js\"></script>\n",
    "  <script src=\"https://code.jquery.com/ui/1.12.1/jquery-ui.js\"></script>\n",
    "  \n",
    "  <script>\n",
    "  $( function() {\n",
    "    $( \"#maplegend\" ).draggable({\n",
    "                    start: function (event, ui) {\n",
    "                        $(this).css({\n",
    "                            right: \"auto\",\n",
    "                            top: \"auto\",\n",
    "                            bottom: \"auto\"\n",
    "                        });\n",
    "                    }\n",
    "                });\n",
    "});\n",
    "\n",
    "  </script>\n",
    "</head>\n",
    "<body>\n",
    "\n",
    " \n",
    "<div id='maplegend' class='maplegend' \n",
    "    style='position: absolute; z-index:9999; border:2px solid grey; background-color:rgba(255, 255, 255, 0.8);\n",
    "     border-radius:6px; padding: 10px; font-size:14px; right: 20px; bottom: 20px;'>\n",
    "     \n",
    "<div class='legend-title'>Legend (draggable!)</div>\n",
    "<div class='legend-scale'>\n",
    "  <ul class='legend-labels'>\n",
    "    <li><span style='background:orange;opacity:0.7;'></span>Religious</li>\n",
    "    <li><span style='background:green;opacity:0.7;'></span>Educational</li>\n",
    "    <li><span style='background:blue;opacity:0.7;'></span>Government</li>\n",
    "    <li><span style='background:black;opacity:0.7;'></span>Others-mostly residential</li>\n",
    "  </ul>\n",
    "</div>\n",
    "</div>\n",
    " \n",
    "</body>\n",
    "</html>\n",
    "\n",
    "<style type='text/css'>\n",
    "  .maplegend .legend-title {\n",
    "    text-align: left;\n",
    "    margin-bottom: 5px;\n",
    "    font-weight: bold;\n",
    "    font-size: 90%;\n",
    "    }\n",
    "  .maplegend .legend-scale ul {\n",
    "    margin: 0;\n",
    "    margin-bottom: 5px;\n",
    "    padding: 0;\n",
    "    float: left;\n",
    "    list-style: none;\n",
    "    }\n",
    "  .maplegend .legend-scale ul li {\n",
    "    font-size: 80%;\n",
    "    list-style: none;\n",
    "    margin-left: 0;\n",
    "    line-height: 18px;\n",
    "    margin-bottom: 2px;\n",
    "    }\n",
    "  .maplegend ul.legend-labels li span {\n",
    "    display: block;\n",
    "    float: left;\n",
    "    height: 16px;\n",
    "    width: 30px;\n",
    "    margin-right: 5px;\n",
    "    margin-left: 0;\n",
    "    border: 1px solid #999;\n",
    "    }\n",
    "  .maplegend .legend-source {\n",
    "    font-size: 80%;\n",
    "    color: #777;\n",
    "    clear: both;\n",
    "    }\n",
    "  .maplegend a {\n",
    "    color: #777;\n",
    "    }\n",
    "</style>\n",
    "{% endmacro %}\"\"\"\n",
    "\n",
    "macro = MacroElement()\n",
    "macro._template = Template(template)\n",
    "ch_map.get_root().add_child(macro)"
   ]
  },
  {
   "cell_type": "code",
   "execution_count": null,
   "metadata": {},
   "outputs": [],
   "source": [
    "ch_map.save('ch_map_property.html')"
   ]
  },
  {
   "cell_type": "markdown",
   "metadata": {},
   "source": [
    "## All in one map:"
   ]
  },
  {
   "cell_type": "code",
   "execution_count": null,
   "metadata": {},
   "outputs": [],
   "source": [
    "all_in_map = folium.Map(location=[ave_lat,ave_long],\n",
    "                        zoom_start=14,\n",
    "                        tiles=\"OpenStreetMap\")"
   ]
  },
  {
   "cell_type": "code",
   "execution_count": null,
   "metadata": {},
   "outputs": [],
   "source": [
    "for i in range(len(mydf['latitude'])):\n",
    "    lat = mydf.iloc[i][13]\n",
    "    long = mydf.iloc[i][14]\n",
    "    #color = mydf.iloc[i][25]\n",
    "    popup_text = \"\"\" Owner Name : {}<br>\n",
    "                Sale Price : {}<br>\n",
    "                2020 Total Price: {}<br>\n",
    "                Premise Address : {}<br>\"\"\" \n",
    "        \n",
    "    popup_text = popup_text.format(mydf.iloc[i][3],\n",
    "                                mydf.iloc[i][7],\n",
    "                                mydf.iloc[i][9],\n",
    "                                mydf.iloc[i][2]\n",
    "                               )\n",
    "    if 'DISTRICT OF COLUMBIA' in mydf.iloc[i][3]:\n",
    "        folium.Marker(location = [lat, long], popup= folium.Popup(popup_text, max_width=400), icon=folium.Icon(color='blue', icon_color='white', icon='university', prefix='fa')).add_to(all_in_map)\n",
    "    elif mydf.iloc[i][6] == 83:\n",
    "        folium.Marker(location = [lat, long], popup= folium.Popup(popup_text, max_width=400), icon=folium.Icon(color='green', icon_color='white', icon='book', prefix='fa')).add_to(all_in_map)\n",
    "    elif mydf.iloc[i][6] == 81:\n",
    "        folium.Marker(location = [lat, long], popup= folium.Popup(popup_text, max_width=400), icon=folium.Icon(color='orange', icon_color='white', icon= 'plus', prefix='fa')).add_to(all_in_map)\n",
    "    else:\n",
    "        folium.Circle(location = [lat, long], popup= folium.Popup(popup_text, max_width=400),radius = 2, color='blue').add_to(all_in_map)\n",
    "        "
   ]
  },
  {
   "cell_type": "code",
   "execution_count": null,
   "metadata": {},
   "outputs": [],
   "source": [
    "marker_cluster = MarkerCluster().add_to(all_in_map)"
   ]
  },
  {
   "cell_type": "code",
   "execution_count": null,
   "metadata": {},
   "outputs": [],
   "source": [
    "dc_crime_2019 = pd.read_csv('Crime_Incidents_in_2019.csv')\n",
    "ch_crime_2019 = dc_crime_2019[dc_crime_2019.NEIGHBORHOOD_CLUSTER == \"Cluster 39\"]\n",
    "mydata = ch_crime_2019"
   ]
  },
  {
   "cell_type": "code",
   "execution_count": null,
   "metadata": {},
   "outputs": [],
   "source": [
    "color_list = []\n",
    "for i in range(len(mydata['LATITUDE'])):   \n",
    "    if mydata.iloc[i][6] == \"THEFT/OTHER\":\n",
    "        color = \"orange\"\n",
    "    elif mydata.iloc[i][6] == \"THEFT F/AUTO\":\n",
    "        color = \"purple\"\n",
    "    elif mydata.iloc[i][6] == \"MOTOR VEHICLE THEFT\":\n",
    "        color = \"green\"\n",
    "    elif mydata.iloc[i][6] == \"ASSAULT W/DANGEROUS WEAPON\":\n",
    "        color = \"darkred\"\n",
    "    elif mydata.iloc[i][6] == \"HOMICIDE\":\n",
    "        color = \"red\"\n",
    "    elif mydata.iloc[i][6] == \"BURGLARY\":\n",
    "        color = \"gray\"\n",
    "    elif mydata.iloc[i][6] == \"ROBBERY\":\n",
    "        color = \"darkpurple\"\n",
    "    elif mydata.iloc[i][6] == \"SEX ABUSE\":\n",
    "        color = \"darkblue\"\n",
    "    else:\n",
    "        color = \"black\"\n",
    "    color_list.append(color)\n",
    "mydata['color'] = pd.Series(color_list).values"
   ]
  },
  {
   "cell_type": "code",
   "execution_count": null,
   "metadata": {},
   "outputs": [],
   "source": [
    "for i in range(len(mydata['LATITUDE'])):\n",
    "    lat = mydata.iloc[i][18]\n",
    "    long = mydata.iloc[i][19]\n",
    "    color = mydata.iloc[i][25]\n",
    "    popup_text = \"\"\" OFFENSE : {}<br>\n",
    "                METHOD : {}<br>\n",
    "                BLOCK_GROUP : {}<br>\n",
    "                SHIFT : {}<br>\n",
    "                START DATE : {}<br>\"\"\" \n",
    "        \n",
    "    popup_text = popup_text.format(mydata.iloc[i][6],\n",
    "                                mydata.iloc[i][5],\n",
    "                                mydata.iloc[i][15],\n",
    "                                mydata.iloc[i][4],  \n",
    "                                mydata.iloc[i][21]\n",
    "                               )\n",
    "    folium.Marker(location = [lat, long], popup= folium.Popup(popup_text, max_width=400), icon=folium.Icon(color=color, icon_color='white', icon='exclamation-triangle', prefix='fa')).add_to(marker_cluster)\n",
    "    "
   ]
  }
 ],
 "metadata": {
  "kernelspec": {
   "display_name": "Python 3",
   "language": "python",
   "name": "python3"
  },
  "language_info": {
   "codemirror_mode": {
    "name": "ipython",
    "version": 3
   },
   "file_extension": ".py",
   "mimetype": "text/x-python",
   "name": "python",
   "nbconvert_exporter": "python",
   "pygments_lexer": "ipython3",
   "version": "3.6.5"
  }
 },
 "nbformat": 4,
 "nbformat_minor": 2
}
